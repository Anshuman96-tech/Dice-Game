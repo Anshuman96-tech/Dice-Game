{
 "cells": [
  {
   "cell_type": "code",
   "execution_count": 1,
   "metadata": {},
   "outputs": [],
   "source": [
    "import tkinter\n",
    "from PIL import Image, ImageTk\n",
    "import random\n",
    "\n",
    "# top level widget which represents the main window of an application\n",
    "root = tkinter.Tk()\n",
    "root.geometry('300x300')\n",
    "root.title('Roll the Dice')\n",
    "root.iconbitmap(\"dice.ico\")\n",
    "\n",
    "# adding label with different font and formatting\n",
    "l1 = tkinter.Label(root, text=\"Hello Python Lovers\", fg = \"black\",\n",
    "        font = \"Helvetica 16 bold italic\")\n",
    "l1.pack()\n",
    "\n",
    "# images\n",
    "dice = ['die1.png', 'die2.png', 'die3.png', 'die4.png', 'die5.png', 'die6.png']\n",
    "# simulating the dice with random numbers between 0 to 6 and generating image\n",
    "image1 = ImageTk.PhotoImage(Image.open(random.choice(dice)))\n",
    "\n",
    "# construct a label widget for image\n",
    "label1 = tkinter.Label(root, image=image1)\n",
    "label1.image = image1\n",
    "# packing a widget in the parent widget \n",
    "label1.pack(expand=True)\n",
    "\n",
    "# function activated by button\n",
    "def rolling_dice():\n",
    "    image1 = ImageTk.PhotoImage(Image.open(random.choice(dice)))\n",
    "    # update image\n",
    "    label1.configure(image=image1)\n",
    "    # keep a reference\n",
    "    label1.image = image1\n",
    "\n",
    "# adding button, and command will use rolling_dice function\n",
    "start_button= tkinter.Button(root, text=\"Roll the Dice\", width=20, fg=\"black\", bg=\"pink\", bd=0, padx=20, pady=10, command=rolling_dice)\n",
    "start_button.pack()\n",
    "# call the mainloop of Tk\n",
    "root.mainloop()"
   ]
  },
  {
   "cell_type": "code",
   "execution_count": null,
   "metadata": {},
   "outputs": [],
   "source": []
  }
 ],
 "metadata": {
  "kernelspec": {
   "display_name": "Python 3",
   "language": "python",
   "name": "python3"
  },
  "language_info": {
   "codemirror_mode": {
    "name": "ipython",
    "version": 3
   },
   "file_extension": ".py",
   "mimetype": "text/x-python",
   "name": "python",
   "nbconvert_exporter": "python",
   "pygments_lexer": "ipython3",
   "version": "3.8.5"
  }
 },
 "nbformat": 4,
 "nbformat_minor": 4
}
